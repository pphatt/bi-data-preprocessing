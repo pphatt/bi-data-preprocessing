{
 "cells": [
  {
   "cell_type": "code",
   "execution_count": 91,
   "id": "initial_id",
   "metadata": {
    "collapsed": true,
    "ExecuteTime": {
     "end_time": "2023-10-24T06:38:26.805434800Z",
     "start_time": "2023-10-24T06:38:26.484437400Z"
    }
   },
   "outputs": [],
   "source": [
    "import numpy as np\n",
    "import pandas as pd\n",
    "import matplotlib.pyplot as plt\n",
    "import seaborn as sns\n",
    "import datetime as dt"
   ]
  },
  {
   "cell_type": "code",
   "execution_count": 92,
   "outputs": [],
   "source": [
    "df = pd.read_csv(\"ecommerce_customer_data_large.csv\")"
   ],
   "metadata": {
    "collapsed": false,
    "ExecuteTime": {
     "end_time": "2023-10-24T06:38:27.092463500Z",
     "start_time": "2023-10-24T06:38:26.494438300Z"
    }
   },
   "id": "f9bff8a3cfe86b5a"
  },
  {
   "cell_type": "code",
   "execution_count": 93,
   "outputs": [
    {
     "data": {
      "text/plain": "   Customer ID        Purchase Date Product Category  Product Price  Quantity  \\\n0        44605  2023-05-03 21:30:02             Home            177         1   \n1        44605  2021-05-16 13:57:44      Electronics            174         3   \n2        44605  2020-07-13 06:16:57            Books            413         1   \n3        44605  2023-01-17 13:14:36      Electronics            396         3   \n4        44605  2021-05-01 11:29:27            Books            259         4   \n5        13738  2022-08-25 06:48:33             Home            191         3   \n6        13738  2023-07-25 05:17:24      Electronics            205         1   \n7        13738  2023-02-05 19:31:48            Books            370         5   \n8        13738  2021-12-21 03:29:05             Home             12         2   \n9        13738  2023-02-09 00:53:14      Electronics             40         4   \n\n   Total Purchase Amount Payment Method  Customer Age  Returns  \\\n0                   2427         PayPal            31      1.0   \n1                   2448         PayPal            31      1.0   \n2                   2345    Credit Card            31      1.0   \n3                    937           Cash            31      0.0   \n4                   2598         PayPal            31      1.0   \n5                   3722    Credit Card            27      1.0   \n6                   2773    Credit Card            27      NaN   \n7                   1486           Cash            27      1.0   \n8                   2175           Cash            27      NaN   \n9                   4327           Cash            27      0.0   \n\n    Customer Name  Age  Gender  Churn  \n0     John Rivera   31  Female      0  \n1     John Rivera   31  Female      0  \n2     John Rivera   31  Female      0  \n3     John Rivera   31  Female      0  \n4     John Rivera   31  Female      0  \n5  Lauren Johnson   27  Female      0  \n6  Lauren Johnson   27  Female      0  \n7  Lauren Johnson   27  Female      0  \n8  Lauren Johnson   27  Female      0  \n9  Lauren Johnson   27  Female      0  ",
      "text/html": "<div>\n<style scoped>\n    .dataframe tbody tr th:only-of-type {\n        vertical-align: middle;\n    }\n\n    .dataframe tbody tr th {\n        vertical-align: top;\n    }\n\n    .dataframe thead th {\n        text-align: right;\n    }\n</style>\n<table border=\"1\" class=\"dataframe\">\n  <thead>\n    <tr style=\"text-align: right;\">\n      <th></th>\n      <th>Customer ID</th>\n      <th>Purchase Date</th>\n      <th>Product Category</th>\n      <th>Product Price</th>\n      <th>Quantity</th>\n      <th>Total Purchase Amount</th>\n      <th>Payment Method</th>\n      <th>Customer Age</th>\n      <th>Returns</th>\n      <th>Customer Name</th>\n      <th>Age</th>\n      <th>Gender</th>\n      <th>Churn</th>\n    </tr>\n  </thead>\n  <tbody>\n    <tr>\n      <th>0</th>\n      <td>44605</td>\n      <td>2023-05-03 21:30:02</td>\n      <td>Home</td>\n      <td>177</td>\n      <td>1</td>\n      <td>2427</td>\n      <td>PayPal</td>\n      <td>31</td>\n      <td>1.0</td>\n      <td>John Rivera</td>\n      <td>31</td>\n      <td>Female</td>\n      <td>0</td>\n    </tr>\n    <tr>\n      <th>1</th>\n      <td>44605</td>\n      <td>2021-05-16 13:57:44</td>\n      <td>Electronics</td>\n      <td>174</td>\n      <td>3</td>\n      <td>2448</td>\n      <td>PayPal</td>\n      <td>31</td>\n      <td>1.0</td>\n      <td>John Rivera</td>\n      <td>31</td>\n      <td>Female</td>\n      <td>0</td>\n    </tr>\n    <tr>\n      <th>2</th>\n      <td>44605</td>\n      <td>2020-07-13 06:16:57</td>\n      <td>Books</td>\n      <td>413</td>\n      <td>1</td>\n      <td>2345</td>\n      <td>Credit Card</td>\n      <td>31</td>\n      <td>1.0</td>\n      <td>John Rivera</td>\n      <td>31</td>\n      <td>Female</td>\n      <td>0</td>\n    </tr>\n    <tr>\n      <th>3</th>\n      <td>44605</td>\n      <td>2023-01-17 13:14:36</td>\n      <td>Electronics</td>\n      <td>396</td>\n      <td>3</td>\n      <td>937</td>\n      <td>Cash</td>\n      <td>31</td>\n      <td>0.0</td>\n      <td>John Rivera</td>\n      <td>31</td>\n      <td>Female</td>\n      <td>0</td>\n    </tr>\n    <tr>\n      <th>4</th>\n      <td>44605</td>\n      <td>2021-05-01 11:29:27</td>\n      <td>Books</td>\n      <td>259</td>\n      <td>4</td>\n      <td>2598</td>\n      <td>PayPal</td>\n      <td>31</td>\n      <td>1.0</td>\n      <td>John Rivera</td>\n      <td>31</td>\n      <td>Female</td>\n      <td>0</td>\n    </tr>\n    <tr>\n      <th>5</th>\n      <td>13738</td>\n      <td>2022-08-25 06:48:33</td>\n      <td>Home</td>\n      <td>191</td>\n      <td>3</td>\n      <td>3722</td>\n      <td>Credit Card</td>\n      <td>27</td>\n      <td>1.0</td>\n      <td>Lauren Johnson</td>\n      <td>27</td>\n      <td>Female</td>\n      <td>0</td>\n    </tr>\n    <tr>\n      <th>6</th>\n      <td>13738</td>\n      <td>2023-07-25 05:17:24</td>\n      <td>Electronics</td>\n      <td>205</td>\n      <td>1</td>\n      <td>2773</td>\n      <td>Credit Card</td>\n      <td>27</td>\n      <td>NaN</td>\n      <td>Lauren Johnson</td>\n      <td>27</td>\n      <td>Female</td>\n      <td>0</td>\n    </tr>\n    <tr>\n      <th>7</th>\n      <td>13738</td>\n      <td>2023-02-05 19:31:48</td>\n      <td>Books</td>\n      <td>370</td>\n      <td>5</td>\n      <td>1486</td>\n      <td>Cash</td>\n      <td>27</td>\n      <td>1.0</td>\n      <td>Lauren Johnson</td>\n      <td>27</td>\n      <td>Female</td>\n      <td>0</td>\n    </tr>\n    <tr>\n      <th>8</th>\n      <td>13738</td>\n      <td>2021-12-21 03:29:05</td>\n      <td>Home</td>\n      <td>12</td>\n      <td>2</td>\n      <td>2175</td>\n      <td>Cash</td>\n      <td>27</td>\n      <td>NaN</td>\n      <td>Lauren Johnson</td>\n      <td>27</td>\n      <td>Female</td>\n      <td>0</td>\n    </tr>\n    <tr>\n      <th>9</th>\n      <td>13738</td>\n      <td>2023-02-09 00:53:14</td>\n      <td>Electronics</td>\n      <td>40</td>\n      <td>4</td>\n      <td>4327</td>\n      <td>Cash</td>\n      <td>27</td>\n      <td>0.0</td>\n      <td>Lauren Johnson</td>\n      <td>27</td>\n      <td>Female</td>\n      <td>0</td>\n    </tr>\n  </tbody>\n</table>\n</div>"
     },
     "execution_count": 93,
     "metadata": {},
     "output_type": "execute_result"
    }
   ],
   "source": [
    "df.head(10)"
   ],
   "metadata": {
    "collapsed": false,
    "ExecuteTime": {
     "end_time": "2023-10-24T06:38:27.139434Z",
     "start_time": "2023-10-24T06:38:27.096439800Z"
    }
   },
   "id": "c819f545f6914173"
  },
  {
   "cell_type": "code",
   "execution_count": 94,
   "outputs": [
    {
     "name": "stdout",
     "output_type": "stream",
     "text": [
      "<class 'pandas.core.frame.DataFrame'>\n",
      "RangeIndex: 250000 entries, 0 to 249999\n",
      "Data columns (total 13 columns):\n",
      " #   Column                 Non-Null Count   Dtype  \n",
      "---  ------                 --------------   -----  \n",
      " 0   Customer ID            250000 non-null  int64  \n",
      " 1   Purchase Date          250000 non-null  object \n",
      " 2   Product Category       250000 non-null  object \n",
      " 3   Product Price          250000 non-null  int64  \n",
      " 4   Quantity               250000 non-null  int64  \n",
      " 5   Total Purchase Amount  250000 non-null  int64  \n",
      " 6   Payment Method         250000 non-null  object \n",
      " 7   Customer Age           250000 non-null  int64  \n",
      " 8   Returns                202618 non-null  float64\n",
      " 9   Customer Name          250000 non-null  object \n",
      " 10  Age                    250000 non-null  int64  \n",
      " 11  Gender                 250000 non-null  object \n",
      " 12  Churn                  250000 non-null  int64  \n",
      "dtypes: float64(1), int64(7), object(5)\n",
      "memory usage: 24.8+ MB\n"
     ]
    }
   ],
   "source": [
    "df.info()"
   ],
   "metadata": {
    "collapsed": false,
    "ExecuteTime": {
     "end_time": "2023-10-24T06:38:27.271435400Z",
     "start_time": "2023-10-24T06:38:27.127440700Z"
    }
   },
   "id": "887919a8e14bb3d3"
  },
  {
   "cell_type": "code",
   "execution_count": 95,
   "outputs": [],
   "source": [
    "df = df.drop([\"Customer Age\"], axis=1)"
   ],
   "metadata": {
    "collapsed": false,
    "ExecuteTime": {
     "end_time": "2023-10-24T06:38:27.272456Z",
     "start_time": "2023-10-24T06:38:27.223439600Z"
    }
   },
   "id": "d1faec47422941"
  },
  {
   "cell_type": "code",
   "execution_count": 96,
   "outputs": [],
   "source": [
    "df.drop_duplicates(inplace=True)"
   ],
   "metadata": {
    "collapsed": false,
    "ExecuteTime": {
     "end_time": "2023-10-24T06:38:27.502436500Z",
     "start_time": "2023-10-24T06:38:27.251439800Z"
    }
   },
   "id": "ce60547953c231e1"
  },
  {
   "cell_type": "code",
   "execution_count": 97,
   "outputs": [
    {
     "data": {
      "text/plain": "Customer ID                  0\nPurchase Date                0\nProduct Category             0\nProduct Price                0\nQuantity                     0\nTotal Purchase Amount        0\nPayment Method               0\nReturns                  47382\nCustomer Name                0\nAge                          0\nGender                       0\nChurn                        0\ndtype: int64"
     },
     "execution_count": 97,
     "metadata": {},
     "output_type": "execute_result"
    }
   ],
   "source": [
    "df.isnull().sum()"
   ],
   "metadata": {
    "collapsed": false,
    "ExecuteTime": {
     "end_time": "2023-10-24T06:38:27.566446200Z",
     "start_time": "2023-10-24T06:38:27.505439900Z"
    }
   },
   "id": "faa9d58f0273fca"
  },
  {
   "cell_type": "code",
   "execution_count": 98,
   "outputs": [
    {
     "data": {
      "text/plain": "        Customer ID        Purchase Date Product Category  Product Price  \\\n0             44605  2023-05-03 21:30:02             Home            177   \n1             44605  2021-05-16 13:57:44      Electronics            174   \n2             44605  2020-07-13 06:16:57            Books            413   \n3             44605  2023-01-17 13:14:36      Electronics            396   \n4             44605  2021-05-01 11:29:27            Books            259   \n...             ...                  ...              ...            ...   \n249995        33807  2023-01-24 12:32:18             Home            436   \n249996        20455  2021-06-04 05:45:25      Electronics            233   \n249997        28055  2022-11-10 17:11:57      Electronics            441   \n249998        15023  2021-06-27 14:42:12      Electronics             44   \n249999         4148  2020-09-07 05:12:19             Home            307   \n\n        Quantity  Total Purchase Amount Payment Method  Returns  \\\n0              1                   2427         PayPal      yes   \n1              3                   2448         PayPal      yes   \n2              1                   2345    Credit Card      yes   \n3              3                    937           Cash       no   \n4              4                   2598         PayPal      yes   \n...          ...                    ...            ...      ...   \n249995         1                   3664           Cash       no   \n249996         1                   4374    Credit Card      yes   \n249997         5                   5296           Cash  unknown   \n249998         2                   2517           Cash      yes   \n249999         5                   3634           Cash       no   \n\n            Customer Name  Age  Gender Churn  \n0             John Rivera   31  Female    no  \n1             John Rivera   31  Female    no  \n2             John Rivera   31  Female    no  \n3             John Rivera   31  Female    no  \n4             John Rivera   31  Female    no  \n...                   ...  ...     ...   ...  \n249995   Gabriel Williams   63    Male    no  \n249996       Barry Foster   66  Female    no  \n249997       Lisa Johnson   63  Female    no  \n249998  Melissa Fernandez   64    Male    no  \n249999      Angela Norton   32    Male    no  \n\n[250000 rows x 12 columns]",
      "text/html": "<div>\n<style scoped>\n    .dataframe tbody tr th:only-of-type {\n        vertical-align: middle;\n    }\n\n    .dataframe tbody tr th {\n        vertical-align: top;\n    }\n\n    .dataframe thead th {\n        text-align: right;\n    }\n</style>\n<table border=\"1\" class=\"dataframe\">\n  <thead>\n    <tr style=\"text-align: right;\">\n      <th></th>\n      <th>Customer ID</th>\n      <th>Purchase Date</th>\n      <th>Product Category</th>\n      <th>Product Price</th>\n      <th>Quantity</th>\n      <th>Total Purchase Amount</th>\n      <th>Payment Method</th>\n      <th>Returns</th>\n      <th>Customer Name</th>\n      <th>Age</th>\n      <th>Gender</th>\n      <th>Churn</th>\n    </tr>\n  </thead>\n  <tbody>\n    <tr>\n      <th>0</th>\n      <td>44605</td>\n      <td>2023-05-03 21:30:02</td>\n      <td>Home</td>\n      <td>177</td>\n      <td>1</td>\n      <td>2427</td>\n      <td>PayPal</td>\n      <td>yes</td>\n      <td>John Rivera</td>\n      <td>31</td>\n      <td>Female</td>\n      <td>no</td>\n    </tr>\n    <tr>\n      <th>1</th>\n      <td>44605</td>\n      <td>2021-05-16 13:57:44</td>\n      <td>Electronics</td>\n      <td>174</td>\n      <td>3</td>\n      <td>2448</td>\n      <td>PayPal</td>\n      <td>yes</td>\n      <td>John Rivera</td>\n      <td>31</td>\n      <td>Female</td>\n      <td>no</td>\n    </tr>\n    <tr>\n      <th>2</th>\n      <td>44605</td>\n      <td>2020-07-13 06:16:57</td>\n      <td>Books</td>\n      <td>413</td>\n      <td>1</td>\n      <td>2345</td>\n      <td>Credit Card</td>\n      <td>yes</td>\n      <td>John Rivera</td>\n      <td>31</td>\n      <td>Female</td>\n      <td>no</td>\n    </tr>\n    <tr>\n      <th>3</th>\n      <td>44605</td>\n      <td>2023-01-17 13:14:36</td>\n      <td>Electronics</td>\n      <td>396</td>\n      <td>3</td>\n      <td>937</td>\n      <td>Cash</td>\n      <td>no</td>\n      <td>John Rivera</td>\n      <td>31</td>\n      <td>Female</td>\n      <td>no</td>\n    </tr>\n    <tr>\n      <th>4</th>\n      <td>44605</td>\n      <td>2021-05-01 11:29:27</td>\n      <td>Books</td>\n      <td>259</td>\n      <td>4</td>\n      <td>2598</td>\n      <td>PayPal</td>\n      <td>yes</td>\n      <td>John Rivera</td>\n      <td>31</td>\n      <td>Female</td>\n      <td>no</td>\n    </tr>\n    <tr>\n      <th>...</th>\n      <td>...</td>\n      <td>...</td>\n      <td>...</td>\n      <td>...</td>\n      <td>...</td>\n      <td>...</td>\n      <td>...</td>\n      <td>...</td>\n      <td>...</td>\n      <td>...</td>\n      <td>...</td>\n      <td>...</td>\n    </tr>\n    <tr>\n      <th>249995</th>\n      <td>33807</td>\n      <td>2023-01-24 12:32:18</td>\n      <td>Home</td>\n      <td>436</td>\n      <td>1</td>\n      <td>3664</td>\n      <td>Cash</td>\n      <td>no</td>\n      <td>Gabriel Williams</td>\n      <td>63</td>\n      <td>Male</td>\n      <td>no</td>\n    </tr>\n    <tr>\n      <th>249996</th>\n      <td>20455</td>\n      <td>2021-06-04 05:45:25</td>\n      <td>Electronics</td>\n      <td>233</td>\n      <td>1</td>\n      <td>4374</td>\n      <td>Credit Card</td>\n      <td>yes</td>\n      <td>Barry Foster</td>\n      <td>66</td>\n      <td>Female</td>\n      <td>no</td>\n    </tr>\n    <tr>\n      <th>249997</th>\n      <td>28055</td>\n      <td>2022-11-10 17:11:57</td>\n      <td>Electronics</td>\n      <td>441</td>\n      <td>5</td>\n      <td>5296</td>\n      <td>Cash</td>\n      <td>unknown</td>\n      <td>Lisa Johnson</td>\n      <td>63</td>\n      <td>Female</td>\n      <td>no</td>\n    </tr>\n    <tr>\n      <th>249998</th>\n      <td>15023</td>\n      <td>2021-06-27 14:42:12</td>\n      <td>Electronics</td>\n      <td>44</td>\n      <td>2</td>\n      <td>2517</td>\n      <td>Cash</td>\n      <td>yes</td>\n      <td>Melissa Fernandez</td>\n      <td>64</td>\n      <td>Male</td>\n      <td>no</td>\n    </tr>\n    <tr>\n      <th>249999</th>\n      <td>4148</td>\n      <td>2020-09-07 05:12:19</td>\n      <td>Home</td>\n      <td>307</td>\n      <td>5</td>\n      <td>3634</td>\n      <td>Cash</td>\n      <td>no</td>\n      <td>Angela Norton</td>\n      <td>32</td>\n      <td>Male</td>\n      <td>no</td>\n    </tr>\n  </tbody>\n</table>\n<p>250000 rows × 12 columns</p>\n</div>"
     },
     "execution_count": 98,
     "metadata": {},
     "output_type": "execute_result"
    }
   ],
   "source": [
    "df[\"Returns\"] = df[\"Returns\"].map(lambda x: \"no\" if x == 0 else \"yes\" if x == 1 else \"unknown\")\n",
    "df[\"Churn\"] = df[\"Churn\"].map(lambda x: \"no\" if x == 0 else \"yes\" if x == 1 else \"unknown\")\n",
    "df"
   ],
   "metadata": {
    "collapsed": false,
    "ExecuteTime": {
     "end_time": "2023-10-24T06:38:27.706451600Z",
     "start_time": "2023-10-24T06:38:27.633438Z"
    }
   },
   "id": "aa56e83224b85df9"
  },
  {
   "cell_type": "code",
   "execution_count": 99,
   "outputs": [
    {
     "data": {
      "text/plain": "Customer ID              0\nPurchase Date            0\nProduct Category         0\nProduct Price            0\nQuantity                 0\nTotal Purchase Amount    0\nPayment Method           0\nReturns                  0\nCustomer Name            0\nAge                      0\nGender                   0\nChurn                    0\ndtype: int64"
     },
     "execution_count": 99,
     "metadata": {},
     "output_type": "execute_result"
    }
   ],
   "source": [
    "df.isnull().sum()"
   ],
   "metadata": {
    "collapsed": false,
    "ExecuteTime": {
     "end_time": "2023-10-24T06:38:27.856447400Z",
     "start_time": "2023-10-24T06:38:27.784441700Z"
    }
   },
   "id": "1fef1d827dbf7ce0"
  },
  {
   "cell_type": "code",
   "execution_count": 100,
   "outputs": [
    {
     "data": {
      "text/plain": "        Customer ID        Purchase Date Product Category  Product Price  \\\n0             44605  2023-05-03 21:30:02             Home            177   \n1             44605  2021-05-16 13:57:44      Electronics            174   \n2             44605  2020-07-13 06:16:57            Books            413   \n3             44605  2023-01-17 13:14:36      Electronics            396   \n4             44605  2021-05-01 11:29:27            Books            259   \n...             ...                  ...              ...            ...   \n249995        33807  2023-01-24 12:32:18             Home            436   \n249996        20455  2021-06-04 05:45:25      Electronics            233   \n249997        28055  2022-11-10 17:11:57      Electronics            441   \n249998        15023  2021-06-27 14:42:12      Electronics             44   \n249999         4148  2020-09-07 05:12:19             Home            307   \n\n        Quantity  Total Purchase Amount Payment Method  Returns  \\\n0              1                   2427         PayPal      yes   \n1              3                   2448         PayPal      yes   \n2              1                   2345    Credit Card      yes   \n3              3                    937           Cash       no   \n4              4                   2598         PayPal      yes   \n...          ...                    ...            ...      ...   \n249995         1                   3664           Cash       no   \n249996         1                   4374    Credit Card      yes   \n249997         5                   5296           Cash  unknown   \n249998         2                   2517           Cash      yes   \n249999         5                   3634           Cash       no   \n\n            Customer Name  Age  Gender Churn  \n0             John Rivera   31  Female    no  \n1             John Rivera   31  Female    no  \n2             John Rivera   31  Female    no  \n3             John Rivera   31  Female    no  \n4             John Rivera   31  Female    no  \n...                   ...  ...     ...   ...  \n249995   Gabriel Williams   63    Male    no  \n249996       Barry Foster   66  Female    no  \n249997       Lisa Johnson   63  Female    no  \n249998  Melissa Fernandez   64    Male    no  \n249999      Angela Norton   32    Male    no  \n\n[250000 rows x 12 columns]",
      "text/html": "<div>\n<style scoped>\n    .dataframe tbody tr th:only-of-type {\n        vertical-align: middle;\n    }\n\n    .dataframe tbody tr th {\n        vertical-align: top;\n    }\n\n    .dataframe thead th {\n        text-align: right;\n    }\n</style>\n<table border=\"1\" class=\"dataframe\">\n  <thead>\n    <tr style=\"text-align: right;\">\n      <th></th>\n      <th>Customer ID</th>\n      <th>Purchase Date</th>\n      <th>Product Category</th>\n      <th>Product Price</th>\n      <th>Quantity</th>\n      <th>Total Purchase Amount</th>\n      <th>Payment Method</th>\n      <th>Returns</th>\n      <th>Customer Name</th>\n      <th>Age</th>\n      <th>Gender</th>\n      <th>Churn</th>\n    </tr>\n  </thead>\n  <tbody>\n    <tr>\n      <th>0</th>\n      <td>44605</td>\n      <td>2023-05-03 21:30:02</td>\n      <td>Home</td>\n      <td>177</td>\n      <td>1</td>\n      <td>2427</td>\n      <td>PayPal</td>\n      <td>yes</td>\n      <td>John Rivera</td>\n      <td>31</td>\n      <td>Female</td>\n      <td>no</td>\n    </tr>\n    <tr>\n      <th>1</th>\n      <td>44605</td>\n      <td>2021-05-16 13:57:44</td>\n      <td>Electronics</td>\n      <td>174</td>\n      <td>3</td>\n      <td>2448</td>\n      <td>PayPal</td>\n      <td>yes</td>\n      <td>John Rivera</td>\n      <td>31</td>\n      <td>Female</td>\n      <td>no</td>\n    </tr>\n    <tr>\n      <th>2</th>\n      <td>44605</td>\n      <td>2020-07-13 06:16:57</td>\n      <td>Books</td>\n      <td>413</td>\n      <td>1</td>\n      <td>2345</td>\n      <td>Credit Card</td>\n      <td>yes</td>\n      <td>John Rivera</td>\n      <td>31</td>\n      <td>Female</td>\n      <td>no</td>\n    </tr>\n    <tr>\n      <th>3</th>\n      <td>44605</td>\n      <td>2023-01-17 13:14:36</td>\n      <td>Electronics</td>\n      <td>396</td>\n      <td>3</td>\n      <td>937</td>\n      <td>Cash</td>\n      <td>no</td>\n      <td>John Rivera</td>\n      <td>31</td>\n      <td>Female</td>\n      <td>no</td>\n    </tr>\n    <tr>\n      <th>4</th>\n      <td>44605</td>\n      <td>2021-05-01 11:29:27</td>\n      <td>Books</td>\n      <td>259</td>\n      <td>4</td>\n      <td>2598</td>\n      <td>PayPal</td>\n      <td>yes</td>\n      <td>John Rivera</td>\n      <td>31</td>\n      <td>Female</td>\n      <td>no</td>\n    </tr>\n    <tr>\n      <th>...</th>\n      <td>...</td>\n      <td>...</td>\n      <td>...</td>\n      <td>...</td>\n      <td>...</td>\n      <td>...</td>\n      <td>...</td>\n      <td>...</td>\n      <td>...</td>\n      <td>...</td>\n      <td>...</td>\n      <td>...</td>\n    </tr>\n    <tr>\n      <th>249995</th>\n      <td>33807</td>\n      <td>2023-01-24 12:32:18</td>\n      <td>Home</td>\n      <td>436</td>\n      <td>1</td>\n      <td>3664</td>\n      <td>Cash</td>\n      <td>no</td>\n      <td>Gabriel Williams</td>\n      <td>63</td>\n      <td>Male</td>\n      <td>no</td>\n    </tr>\n    <tr>\n      <th>249996</th>\n      <td>20455</td>\n      <td>2021-06-04 05:45:25</td>\n      <td>Electronics</td>\n      <td>233</td>\n      <td>1</td>\n      <td>4374</td>\n      <td>Credit Card</td>\n      <td>yes</td>\n      <td>Barry Foster</td>\n      <td>66</td>\n      <td>Female</td>\n      <td>no</td>\n    </tr>\n    <tr>\n      <th>249997</th>\n      <td>28055</td>\n      <td>2022-11-10 17:11:57</td>\n      <td>Electronics</td>\n      <td>441</td>\n      <td>5</td>\n      <td>5296</td>\n      <td>Cash</td>\n      <td>unknown</td>\n      <td>Lisa Johnson</td>\n      <td>63</td>\n      <td>Female</td>\n      <td>no</td>\n    </tr>\n    <tr>\n      <th>249998</th>\n      <td>15023</td>\n      <td>2021-06-27 14:42:12</td>\n      <td>Electronics</td>\n      <td>44</td>\n      <td>2</td>\n      <td>2517</td>\n      <td>Cash</td>\n      <td>yes</td>\n      <td>Melissa Fernandez</td>\n      <td>64</td>\n      <td>Male</td>\n      <td>no</td>\n    </tr>\n    <tr>\n      <th>249999</th>\n      <td>4148</td>\n      <td>2020-09-07 05:12:19</td>\n      <td>Home</td>\n      <td>307</td>\n      <td>5</td>\n      <td>3634</td>\n      <td>Cash</td>\n      <td>no</td>\n      <td>Angela Norton</td>\n      <td>32</td>\n      <td>Male</td>\n      <td>no</td>\n    </tr>\n  </tbody>\n</table>\n<p>250000 rows × 12 columns</p>\n</div>"
     },
     "execution_count": 100,
     "metadata": {},
     "output_type": "execute_result"
    }
   ],
   "source": [
    "df"
   ],
   "metadata": {
    "collapsed": false,
    "ExecuteTime": {
     "end_time": "2023-10-24T06:38:27.859457Z",
     "start_time": "2023-10-24T06:38:27.820441200Z"
    }
   },
   "id": "25df2f6e59f9edf3"
  },
  {
   "cell_type": "code",
   "execution_count": 101,
   "outputs": [],
   "source": [
    "# df[\"Purchase Date\"] = pd.to_datetime(df[\"Purchase Date\"])\n",
    "# \n",
    "# df[\"Purchase Date\"] = df[\"Purchase Date\"].dt.year\n",
    "# df"
   ],
   "metadata": {
    "collapsed": false,
    "ExecuteTime": {
     "end_time": "2023-10-24T06:38:27.890436200Z",
     "start_time": "2023-10-24T06:38:27.850437800Z"
    }
   },
   "id": "3e4242b4c93ea67a"
  },
  {
   "cell_type": "code",
   "execution_count": 102,
   "outputs": [],
   "source": [
    "# df[\"Purchase Date\"] = df.datetime.astype('int64')\n",
    "# df"
   ],
   "metadata": {
    "collapsed": false,
    "ExecuteTime": {
     "end_time": "2023-10-24T06:38:27.899440600Z",
     "start_time": "2023-10-24T06:38:27.865442300Z"
    }
   },
   "id": "7977aee19f0416f9"
  },
  {
   "cell_type": "code",
   "execution_count": 103,
   "outputs": [
    {
     "data": {
      "text/plain": "        Customer ID        Purchase Date Product Category  Product Price  \\\n0             44605  2023-05-03 21:30:02             Home            177   \n1             44605  2021-05-16 13:57:44      Electronics            174   \n2             44605  2020-07-13 06:16:57            Books            413   \n3             44605  2023-01-17 13:14:36      Electronics            396   \n4             44605  2021-05-01 11:29:27            Books            259   \n...             ...                  ...              ...            ...   \n249995        33807  2023-01-24 12:32:18             Home            436   \n249996        20455  2021-06-04 05:45:25      Electronics            233   \n249997        28055  2022-11-10 17:11:57      Electronics            441   \n249998        15023  2021-06-27 14:42:12      Electronics             44   \n249999         4148  2020-09-07 05:12:19             Home            307   \n\n        Quantity  Total Purchase Payment Method  Returns      Customer Name  \\\n0              1             177         PayPal      yes        John Rivera   \n1              3             522         PayPal      yes        John Rivera   \n2              1             413    Credit Card      yes        John Rivera   \n3              3            1188           Cash       no        John Rivera   \n4              4            1036         PayPal      yes        John Rivera   \n...          ...             ...            ...      ...                ...   \n249995         1             436           Cash       no   Gabriel Williams   \n249996         1             233    Credit Card      yes       Barry Foster   \n249997         5            2205           Cash  unknown       Lisa Johnson   \n249998         2              88           Cash      yes  Melissa Fernandez   \n249999         5            1535           Cash       no      Angela Norton   \n\n        Age  Gender Churn  \n0        31  Female    no  \n1        31  Female    no  \n2        31  Female    no  \n3        31  Female    no  \n4        31  Female    no  \n...     ...     ...   ...  \n249995   63    Male    no  \n249996   66  Female    no  \n249997   63  Female    no  \n249998   64    Male    no  \n249999   32    Male    no  \n\n[250000 rows x 12 columns]",
      "text/html": "<div>\n<style scoped>\n    .dataframe tbody tr th:only-of-type {\n        vertical-align: middle;\n    }\n\n    .dataframe tbody tr th {\n        vertical-align: top;\n    }\n\n    .dataframe thead th {\n        text-align: right;\n    }\n</style>\n<table border=\"1\" class=\"dataframe\">\n  <thead>\n    <tr style=\"text-align: right;\">\n      <th></th>\n      <th>Customer ID</th>\n      <th>Purchase Date</th>\n      <th>Product Category</th>\n      <th>Product Price</th>\n      <th>Quantity</th>\n      <th>Total Purchase</th>\n      <th>Payment Method</th>\n      <th>Returns</th>\n      <th>Customer Name</th>\n      <th>Age</th>\n      <th>Gender</th>\n      <th>Churn</th>\n    </tr>\n  </thead>\n  <tbody>\n    <tr>\n      <th>0</th>\n      <td>44605</td>\n      <td>2023-05-03 21:30:02</td>\n      <td>Home</td>\n      <td>177</td>\n      <td>1</td>\n      <td>177</td>\n      <td>PayPal</td>\n      <td>yes</td>\n      <td>John Rivera</td>\n      <td>31</td>\n      <td>Female</td>\n      <td>no</td>\n    </tr>\n    <tr>\n      <th>1</th>\n      <td>44605</td>\n      <td>2021-05-16 13:57:44</td>\n      <td>Electronics</td>\n      <td>174</td>\n      <td>3</td>\n      <td>522</td>\n      <td>PayPal</td>\n      <td>yes</td>\n      <td>John Rivera</td>\n      <td>31</td>\n      <td>Female</td>\n      <td>no</td>\n    </tr>\n    <tr>\n      <th>2</th>\n      <td>44605</td>\n      <td>2020-07-13 06:16:57</td>\n      <td>Books</td>\n      <td>413</td>\n      <td>1</td>\n      <td>413</td>\n      <td>Credit Card</td>\n      <td>yes</td>\n      <td>John Rivera</td>\n      <td>31</td>\n      <td>Female</td>\n      <td>no</td>\n    </tr>\n    <tr>\n      <th>3</th>\n      <td>44605</td>\n      <td>2023-01-17 13:14:36</td>\n      <td>Electronics</td>\n      <td>396</td>\n      <td>3</td>\n      <td>1188</td>\n      <td>Cash</td>\n      <td>no</td>\n      <td>John Rivera</td>\n      <td>31</td>\n      <td>Female</td>\n      <td>no</td>\n    </tr>\n    <tr>\n      <th>4</th>\n      <td>44605</td>\n      <td>2021-05-01 11:29:27</td>\n      <td>Books</td>\n      <td>259</td>\n      <td>4</td>\n      <td>1036</td>\n      <td>PayPal</td>\n      <td>yes</td>\n      <td>John Rivera</td>\n      <td>31</td>\n      <td>Female</td>\n      <td>no</td>\n    </tr>\n    <tr>\n      <th>...</th>\n      <td>...</td>\n      <td>...</td>\n      <td>...</td>\n      <td>...</td>\n      <td>...</td>\n      <td>...</td>\n      <td>...</td>\n      <td>...</td>\n      <td>...</td>\n      <td>...</td>\n      <td>...</td>\n      <td>...</td>\n    </tr>\n    <tr>\n      <th>249995</th>\n      <td>33807</td>\n      <td>2023-01-24 12:32:18</td>\n      <td>Home</td>\n      <td>436</td>\n      <td>1</td>\n      <td>436</td>\n      <td>Cash</td>\n      <td>no</td>\n      <td>Gabriel Williams</td>\n      <td>63</td>\n      <td>Male</td>\n      <td>no</td>\n    </tr>\n    <tr>\n      <th>249996</th>\n      <td>20455</td>\n      <td>2021-06-04 05:45:25</td>\n      <td>Electronics</td>\n      <td>233</td>\n      <td>1</td>\n      <td>233</td>\n      <td>Credit Card</td>\n      <td>yes</td>\n      <td>Barry Foster</td>\n      <td>66</td>\n      <td>Female</td>\n      <td>no</td>\n    </tr>\n    <tr>\n      <th>249997</th>\n      <td>28055</td>\n      <td>2022-11-10 17:11:57</td>\n      <td>Electronics</td>\n      <td>441</td>\n      <td>5</td>\n      <td>2205</td>\n      <td>Cash</td>\n      <td>unknown</td>\n      <td>Lisa Johnson</td>\n      <td>63</td>\n      <td>Female</td>\n      <td>no</td>\n    </tr>\n    <tr>\n      <th>249998</th>\n      <td>15023</td>\n      <td>2021-06-27 14:42:12</td>\n      <td>Electronics</td>\n      <td>44</td>\n      <td>2</td>\n      <td>88</td>\n      <td>Cash</td>\n      <td>yes</td>\n      <td>Melissa Fernandez</td>\n      <td>64</td>\n      <td>Male</td>\n      <td>no</td>\n    </tr>\n    <tr>\n      <th>249999</th>\n      <td>4148</td>\n      <td>2020-09-07 05:12:19</td>\n      <td>Home</td>\n      <td>307</td>\n      <td>5</td>\n      <td>1535</td>\n      <td>Cash</td>\n      <td>no</td>\n      <td>Angela Norton</td>\n      <td>32</td>\n      <td>Male</td>\n      <td>no</td>\n    </tr>\n  </tbody>\n</table>\n<p>250000 rows × 12 columns</p>\n</div>"
     },
     "execution_count": 103,
     "metadata": {},
     "output_type": "execute_result"
    }
   ],
   "source": [
    "# df[\"Total Purchase\"] = df[\"Product Price\"] * df[\"Quantity\"]\n",
    "df.insert(loc=5, column=\"Total Purchase\", value=df[\"Product Price\"] * df[\"Quantity\"])\n",
    "df.drop([\"Total Purchase Amount\"], axis=1, inplace=True)\n",
    "df"
   ],
   "metadata": {
    "collapsed": false,
    "ExecuteTime": {
     "end_time": "2023-10-24T06:38:28.055434800Z",
     "start_time": "2023-10-24T06:38:27.881438400Z"
    }
   },
   "id": "2ca9b005df8091"
  },
  {
   "cell_type": "code",
   "execution_count": 104,
   "outputs": [
    {
     "name": "stdout",
     "output_type": "stream",
     "text": [
      "<class 'pandas.core.frame.DataFrame'>\n",
      "RangeIndex: 250000 entries, 0 to 249999\n",
      "Data columns (total 14 columns):\n",
      " #   Column            Non-Null Count   Dtype         \n",
      "---  ------            --------------   -----         \n",
      " 0   Customer ID       250000 non-null  int64         \n",
      " 1   Purchase Date     250000 non-null  datetime64[ns]\n",
      " 2   Date              250000 non-null  datetime64[ns]\n",
      " 3   Time              250000 non-null  object        \n",
      " 4   Product Category  250000 non-null  object        \n",
      " 5   Product Price     250000 non-null  int64         \n",
      " 6   Quantity          250000 non-null  int64         \n",
      " 7   Total Purchase    250000 non-null  int64         \n",
      " 8   Payment Method    250000 non-null  object        \n",
      " 9   Returns           250000 non-null  object        \n",
      " 10  Customer Name     250000 non-null  object        \n",
      " 11  Age               250000 non-null  int64         \n",
      " 12  Gender            250000 non-null  object        \n",
      " 13  Churn             250000 non-null  object        \n",
      "dtypes: datetime64[ns](2), int64(5), object(7)\n",
      "memory usage: 26.7+ MB\n"
     ]
    }
   ],
   "source": [
    "purchase_date = df[\"Purchase Date\"]\n",
    "df[\"Purchase Date\"] = pd.to_datetime(df[\"Purchase Date\"], format='%Y-%m-%d %H:%M:%S')\n",
    "date = []\n",
    "time = []\n",
    "\n",
    "for purchase_date_time in purchase_date:\n",
    "    date_time_split = purchase_date_time.split(\" \")\n",
    "    date.append(date_time_split[0])\n",
    "    time.append(date_time_split[1])\n",
    "    \n",
    "df.insert(loc=2, column=\"Date\", value=date)\n",
    "df.insert(loc=3, column=\"Time\", value=time)\n",
    "df[\"Date\"] = pd.to_datetime(df[\"Date\"], format='%Y-%m-%d')\n",
    "df[\"Time\"] = pd.to_datetime(df[\"Time\"], format= '%H:%M:%S').dt.time\n",
    "df.info()"
   ],
   "metadata": {
    "collapsed": false,
    "ExecuteTime": {
     "end_time": "2023-10-24T06:38:29.883436800Z",
     "start_time": "2023-10-24T06:38:28.152436600Z"
    }
   },
   "id": "14446dda55fad43"
  },
  {
   "cell_type": "code",
   "execution_count": 105,
   "outputs": [
    {
     "data": {
      "text/plain": "        Customer ID       Purchase Date       Date      Time Product Category  \\\n0             44605 2023-05-03 21:30:02 2023-05-03  21:30:02             Home   \n1             44605 2021-05-16 13:57:44 2021-05-16  13:57:44      Electronics   \n2             44605 2020-07-13 06:16:57 2020-07-13  06:16:57            Books   \n3             44605 2023-01-17 13:14:36 2023-01-17  13:14:36      Electronics   \n4             44605 2021-05-01 11:29:27 2021-05-01  11:29:27            Books   \n...             ...                 ...        ...       ...              ...   \n249995        33807 2023-01-24 12:32:18 2023-01-24  12:32:18             Home   \n249996        20455 2021-06-04 05:45:25 2021-06-04  05:45:25      Electronics   \n249997        28055 2022-11-10 17:11:57 2022-11-10  17:11:57      Electronics   \n249998        15023 2021-06-27 14:42:12 2021-06-27  14:42:12      Electronics   \n249999         4148 2020-09-07 05:12:19 2020-09-07  05:12:19             Home   \n\n        Product Price  Quantity  Total Purchase Payment Method  Returns  \\\n0                 177         1             177         PayPal      yes   \n1                 174         3             522         PayPal      yes   \n2                 413         1             413    Credit Card      yes   \n3                 396         3            1188           Cash       no   \n4                 259         4            1036         PayPal      yes   \n...               ...       ...             ...            ...      ...   \n249995            436         1             436           Cash       no   \n249996            233         1             233    Credit Card      yes   \n249997            441         5            2205           Cash  unknown   \n249998             44         2              88           Cash      yes   \n249999            307         5            1535           Cash       no   \n\n            Customer Name  Age  Gender Churn  \n0             John Rivera   31  Female    no  \n1             John Rivera   31  Female    no  \n2             John Rivera   31  Female    no  \n3             John Rivera   31  Female    no  \n4             John Rivera   31  Female    no  \n...                   ...  ...     ...   ...  \n249995   Gabriel Williams   63    Male    no  \n249996       Barry Foster   66  Female    no  \n249997       Lisa Johnson   63  Female    no  \n249998  Melissa Fernandez   64    Male    no  \n249999      Angela Norton   32    Male    no  \n\n[250000 rows x 14 columns]",
      "text/html": "<div>\n<style scoped>\n    .dataframe tbody tr th:only-of-type {\n        vertical-align: middle;\n    }\n\n    .dataframe tbody tr th {\n        vertical-align: top;\n    }\n\n    .dataframe thead th {\n        text-align: right;\n    }\n</style>\n<table border=\"1\" class=\"dataframe\">\n  <thead>\n    <tr style=\"text-align: right;\">\n      <th></th>\n      <th>Customer ID</th>\n      <th>Purchase Date</th>\n      <th>Date</th>\n      <th>Time</th>\n      <th>Product Category</th>\n      <th>Product Price</th>\n      <th>Quantity</th>\n      <th>Total Purchase</th>\n      <th>Payment Method</th>\n      <th>Returns</th>\n      <th>Customer Name</th>\n      <th>Age</th>\n      <th>Gender</th>\n      <th>Churn</th>\n    </tr>\n  </thead>\n  <tbody>\n    <tr>\n      <th>0</th>\n      <td>44605</td>\n      <td>2023-05-03 21:30:02</td>\n      <td>2023-05-03</td>\n      <td>21:30:02</td>\n      <td>Home</td>\n      <td>177</td>\n      <td>1</td>\n      <td>177</td>\n      <td>PayPal</td>\n      <td>yes</td>\n      <td>John Rivera</td>\n      <td>31</td>\n      <td>Female</td>\n      <td>no</td>\n    </tr>\n    <tr>\n      <th>1</th>\n      <td>44605</td>\n      <td>2021-05-16 13:57:44</td>\n      <td>2021-05-16</td>\n      <td>13:57:44</td>\n      <td>Electronics</td>\n      <td>174</td>\n      <td>3</td>\n      <td>522</td>\n      <td>PayPal</td>\n      <td>yes</td>\n      <td>John Rivera</td>\n      <td>31</td>\n      <td>Female</td>\n      <td>no</td>\n    </tr>\n    <tr>\n      <th>2</th>\n      <td>44605</td>\n      <td>2020-07-13 06:16:57</td>\n      <td>2020-07-13</td>\n      <td>06:16:57</td>\n      <td>Books</td>\n      <td>413</td>\n      <td>1</td>\n      <td>413</td>\n      <td>Credit Card</td>\n      <td>yes</td>\n      <td>John Rivera</td>\n      <td>31</td>\n      <td>Female</td>\n      <td>no</td>\n    </tr>\n    <tr>\n      <th>3</th>\n      <td>44605</td>\n      <td>2023-01-17 13:14:36</td>\n      <td>2023-01-17</td>\n      <td>13:14:36</td>\n      <td>Electronics</td>\n      <td>396</td>\n      <td>3</td>\n      <td>1188</td>\n      <td>Cash</td>\n      <td>no</td>\n      <td>John Rivera</td>\n      <td>31</td>\n      <td>Female</td>\n      <td>no</td>\n    </tr>\n    <tr>\n      <th>4</th>\n      <td>44605</td>\n      <td>2021-05-01 11:29:27</td>\n      <td>2021-05-01</td>\n      <td>11:29:27</td>\n      <td>Books</td>\n      <td>259</td>\n      <td>4</td>\n      <td>1036</td>\n      <td>PayPal</td>\n      <td>yes</td>\n      <td>John Rivera</td>\n      <td>31</td>\n      <td>Female</td>\n      <td>no</td>\n    </tr>\n    <tr>\n      <th>...</th>\n      <td>...</td>\n      <td>...</td>\n      <td>...</td>\n      <td>...</td>\n      <td>...</td>\n      <td>...</td>\n      <td>...</td>\n      <td>...</td>\n      <td>...</td>\n      <td>...</td>\n      <td>...</td>\n      <td>...</td>\n      <td>...</td>\n      <td>...</td>\n    </tr>\n    <tr>\n      <th>249995</th>\n      <td>33807</td>\n      <td>2023-01-24 12:32:18</td>\n      <td>2023-01-24</td>\n      <td>12:32:18</td>\n      <td>Home</td>\n      <td>436</td>\n      <td>1</td>\n      <td>436</td>\n      <td>Cash</td>\n      <td>no</td>\n      <td>Gabriel Williams</td>\n      <td>63</td>\n      <td>Male</td>\n      <td>no</td>\n    </tr>\n    <tr>\n      <th>249996</th>\n      <td>20455</td>\n      <td>2021-06-04 05:45:25</td>\n      <td>2021-06-04</td>\n      <td>05:45:25</td>\n      <td>Electronics</td>\n      <td>233</td>\n      <td>1</td>\n      <td>233</td>\n      <td>Credit Card</td>\n      <td>yes</td>\n      <td>Barry Foster</td>\n      <td>66</td>\n      <td>Female</td>\n      <td>no</td>\n    </tr>\n    <tr>\n      <th>249997</th>\n      <td>28055</td>\n      <td>2022-11-10 17:11:57</td>\n      <td>2022-11-10</td>\n      <td>17:11:57</td>\n      <td>Electronics</td>\n      <td>441</td>\n      <td>5</td>\n      <td>2205</td>\n      <td>Cash</td>\n      <td>unknown</td>\n      <td>Lisa Johnson</td>\n      <td>63</td>\n      <td>Female</td>\n      <td>no</td>\n    </tr>\n    <tr>\n      <th>249998</th>\n      <td>15023</td>\n      <td>2021-06-27 14:42:12</td>\n      <td>2021-06-27</td>\n      <td>14:42:12</td>\n      <td>Electronics</td>\n      <td>44</td>\n      <td>2</td>\n      <td>88</td>\n      <td>Cash</td>\n      <td>yes</td>\n      <td>Melissa Fernandez</td>\n      <td>64</td>\n      <td>Male</td>\n      <td>no</td>\n    </tr>\n    <tr>\n      <th>249999</th>\n      <td>4148</td>\n      <td>2020-09-07 05:12:19</td>\n      <td>2020-09-07</td>\n      <td>05:12:19</td>\n      <td>Home</td>\n      <td>307</td>\n      <td>5</td>\n      <td>1535</td>\n      <td>Cash</td>\n      <td>no</td>\n      <td>Angela Norton</td>\n      <td>32</td>\n      <td>Male</td>\n      <td>no</td>\n    </tr>\n  </tbody>\n</table>\n<p>250000 rows × 14 columns</p>\n</div>"
     },
     "execution_count": 105,
     "metadata": {},
     "output_type": "execute_result"
    }
   ],
   "source": [
    "df"
   ],
   "metadata": {
    "collapsed": false,
    "ExecuteTime": {
     "end_time": "2023-10-24T06:38:29.958433900Z",
     "start_time": "2023-10-24T06:38:29.895435500Z"
    }
   },
   "id": "dd3b3ce638dc3910"
  },
  {
   "cell_type": "code",
   "execution_count": 106,
   "outputs": [],
   "source": [
    "df.to_csv(\"preprocess_ecommerce_customer_data.csv\", index=False)"
   ],
   "metadata": {
    "collapsed": false,
    "ExecuteTime": {
     "end_time": "2023-10-24T06:38:32.233679200Z",
     "start_time": "2023-10-24T06:38:29.918435100Z"
    }
   },
   "id": "d27d9ba413388041"
  },
  {
   "cell_type": "code",
   "execution_count": 107,
   "outputs": [
    {
     "data": {
      "text/plain": "        Customer ID        Purchase Date        Date      Time  \\\n0             44605  2023-05-03 21:30:02  2023-05-03  21:30:02   \n1             44605  2021-05-16 13:57:44  2021-05-16  13:57:44   \n2             44605  2020-07-13 06:16:57  2020-07-13  06:16:57   \n3             44605  2023-01-17 13:14:36  2023-01-17  13:14:36   \n4             44605  2021-05-01 11:29:27  2021-05-01  11:29:27   \n...             ...                  ...         ...       ...   \n249995        33807  2023-01-24 12:32:18  2023-01-24  12:32:18   \n249996        20455  2021-06-04 05:45:25  2021-06-04  05:45:25   \n249997        28055  2022-11-10 17:11:57  2022-11-10  17:11:57   \n249998        15023  2021-06-27 14:42:12  2021-06-27  14:42:12   \n249999         4148  2020-09-07 05:12:19  2020-09-07  05:12:19   \n\n       Product Category  Product Price  Quantity  Total Purchase  \\\n0                  Home            177         1             177   \n1           Electronics            174         3             522   \n2                 Books            413         1             413   \n3           Electronics            396         3            1188   \n4                 Books            259         4            1036   \n...                 ...            ...       ...             ...   \n249995             Home            436         1             436   \n249996      Electronics            233         1             233   \n249997      Electronics            441         5            2205   \n249998      Electronics             44         2              88   \n249999             Home            307         5            1535   \n\n       Payment Method  Returns      Customer Name  Age  Gender Churn  \n0              PayPal      yes        John Rivera   31  Female    no  \n1              PayPal      yes        John Rivera   31  Female    no  \n2         Credit Card      yes        John Rivera   31  Female    no  \n3                Cash       no        John Rivera   31  Female    no  \n4              PayPal      yes        John Rivera   31  Female    no  \n...               ...      ...                ...  ...     ...   ...  \n249995           Cash       no   Gabriel Williams   63    Male    no  \n249996    Credit Card      yes       Barry Foster   66  Female    no  \n249997           Cash  unknown       Lisa Johnson   63  Female    no  \n249998           Cash      yes  Melissa Fernandez   64    Male    no  \n249999           Cash       no      Angela Norton   32    Male    no  \n\n[250000 rows x 14 columns]",
      "text/html": "<div>\n<style scoped>\n    .dataframe tbody tr th:only-of-type {\n        vertical-align: middle;\n    }\n\n    .dataframe tbody tr th {\n        vertical-align: top;\n    }\n\n    .dataframe thead th {\n        text-align: right;\n    }\n</style>\n<table border=\"1\" class=\"dataframe\">\n  <thead>\n    <tr style=\"text-align: right;\">\n      <th></th>\n      <th>Customer ID</th>\n      <th>Purchase Date</th>\n      <th>Date</th>\n      <th>Time</th>\n      <th>Product Category</th>\n      <th>Product Price</th>\n      <th>Quantity</th>\n      <th>Total Purchase</th>\n      <th>Payment Method</th>\n      <th>Returns</th>\n      <th>Customer Name</th>\n      <th>Age</th>\n      <th>Gender</th>\n      <th>Churn</th>\n    </tr>\n  </thead>\n  <tbody>\n    <tr>\n      <th>0</th>\n      <td>44605</td>\n      <td>2023-05-03 21:30:02</td>\n      <td>2023-05-03</td>\n      <td>21:30:02</td>\n      <td>Home</td>\n      <td>177</td>\n      <td>1</td>\n      <td>177</td>\n      <td>PayPal</td>\n      <td>yes</td>\n      <td>John Rivera</td>\n      <td>31</td>\n      <td>Female</td>\n      <td>no</td>\n    </tr>\n    <tr>\n      <th>1</th>\n      <td>44605</td>\n      <td>2021-05-16 13:57:44</td>\n      <td>2021-05-16</td>\n      <td>13:57:44</td>\n      <td>Electronics</td>\n      <td>174</td>\n      <td>3</td>\n      <td>522</td>\n      <td>PayPal</td>\n      <td>yes</td>\n      <td>John Rivera</td>\n      <td>31</td>\n      <td>Female</td>\n      <td>no</td>\n    </tr>\n    <tr>\n      <th>2</th>\n      <td>44605</td>\n      <td>2020-07-13 06:16:57</td>\n      <td>2020-07-13</td>\n      <td>06:16:57</td>\n      <td>Books</td>\n      <td>413</td>\n      <td>1</td>\n      <td>413</td>\n      <td>Credit Card</td>\n      <td>yes</td>\n      <td>John Rivera</td>\n      <td>31</td>\n      <td>Female</td>\n      <td>no</td>\n    </tr>\n    <tr>\n      <th>3</th>\n      <td>44605</td>\n      <td>2023-01-17 13:14:36</td>\n      <td>2023-01-17</td>\n      <td>13:14:36</td>\n      <td>Electronics</td>\n      <td>396</td>\n      <td>3</td>\n      <td>1188</td>\n      <td>Cash</td>\n      <td>no</td>\n      <td>John Rivera</td>\n      <td>31</td>\n      <td>Female</td>\n      <td>no</td>\n    </tr>\n    <tr>\n      <th>4</th>\n      <td>44605</td>\n      <td>2021-05-01 11:29:27</td>\n      <td>2021-05-01</td>\n      <td>11:29:27</td>\n      <td>Books</td>\n      <td>259</td>\n      <td>4</td>\n      <td>1036</td>\n      <td>PayPal</td>\n      <td>yes</td>\n      <td>John Rivera</td>\n      <td>31</td>\n      <td>Female</td>\n      <td>no</td>\n    </tr>\n    <tr>\n      <th>...</th>\n      <td>...</td>\n      <td>...</td>\n      <td>...</td>\n      <td>...</td>\n      <td>...</td>\n      <td>...</td>\n      <td>...</td>\n      <td>...</td>\n      <td>...</td>\n      <td>...</td>\n      <td>...</td>\n      <td>...</td>\n      <td>...</td>\n      <td>...</td>\n    </tr>\n    <tr>\n      <th>249995</th>\n      <td>33807</td>\n      <td>2023-01-24 12:32:18</td>\n      <td>2023-01-24</td>\n      <td>12:32:18</td>\n      <td>Home</td>\n      <td>436</td>\n      <td>1</td>\n      <td>436</td>\n      <td>Cash</td>\n      <td>no</td>\n      <td>Gabriel Williams</td>\n      <td>63</td>\n      <td>Male</td>\n      <td>no</td>\n    </tr>\n    <tr>\n      <th>249996</th>\n      <td>20455</td>\n      <td>2021-06-04 05:45:25</td>\n      <td>2021-06-04</td>\n      <td>05:45:25</td>\n      <td>Electronics</td>\n      <td>233</td>\n      <td>1</td>\n      <td>233</td>\n      <td>Credit Card</td>\n      <td>yes</td>\n      <td>Barry Foster</td>\n      <td>66</td>\n      <td>Female</td>\n      <td>no</td>\n    </tr>\n    <tr>\n      <th>249997</th>\n      <td>28055</td>\n      <td>2022-11-10 17:11:57</td>\n      <td>2022-11-10</td>\n      <td>17:11:57</td>\n      <td>Electronics</td>\n      <td>441</td>\n      <td>5</td>\n      <td>2205</td>\n      <td>Cash</td>\n      <td>unknown</td>\n      <td>Lisa Johnson</td>\n      <td>63</td>\n      <td>Female</td>\n      <td>no</td>\n    </tr>\n    <tr>\n      <th>249998</th>\n      <td>15023</td>\n      <td>2021-06-27 14:42:12</td>\n      <td>2021-06-27</td>\n      <td>14:42:12</td>\n      <td>Electronics</td>\n      <td>44</td>\n      <td>2</td>\n      <td>88</td>\n      <td>Cash</td>\n      <td>yes</td>\n      <td>Melissa Fernandez</td>\n      <td>64</td>\n      <td>Male</td>\n      <td>no</td>\n    </tr>\n    <tr>\n      <th>249999</th>\n      <td>4148</td>\n      <td>2020-09-07 05:12:19</td>\n      <td>2020-09-07</td>\n      <td>05:12:19</td>\n      <td>Home</td>\n      <td>307</td>\n      <td>5</td>\n      <td>1535</td>\n      <td>Cash</td>\n      <td>no</td>\n      <td>Angela Norton</td>\n      <td>32</td>\n      <td>Male</td>\n      <td>no</td>\n    </tr>\n  </tbody>\n</table>\n<p>250000 rows × 14 columns</p>\n</div>"
     },
     "execution_count": 107,
     "metadata": {},
     "output_type": "execute_result"
    }
   ],
   "source": [
    "df = pd.read_csv(\"preprocess_ecommerce_customer_data.csv\")\n",
    "df"
   ],
   "metadata": {
    "collapsed": false,
    "ExecuteTime": {
     "end_time": "2023-10-24T06:38:32.976678900Z",
     "start_time": "2023-10-24T06:38:32.235664700Z"
    }
   },
   "id": "6f07bf01fd33342c"
  },
  {
   "cell_type": "code",
   "execution_count": 108,
   "outputs": [
    {
     "name": "stdout",
     "output_type": "stream",
     "text": [
      "<class 'pandas.core.frame.DataFrame'>\n",
      "RangeIndex: 250000 entries, 0 to 249999\n",
      "Data columns (total 14 columns):\n",
      " #   Column            Non-Null Count   Dtype \n",
      "---  ------            --------------   ----- \n",
      " 0   Customer ID       250000 non-null  int64 \n",
      " 1   Purchase Date     250000 non-null  object\n",
      " 2   Date              250000 non-null  object\n",
      " 3   Time              250000 non-null  object\n",
      " 4   Product Category  250000 non-null  object\n",
      " 5   Product Price     250000 non-null  int64 \n",
      " 6   Quantity          250000 non-null  int64 \n",
      " 7   Total Purchase    250000 non-null  int64 \n",
      " 8   Payment Method    250000 non-null  object\n",
      " 9   Returns           250000 non-null  object\n",
      " 10  Customer Name     250000 non-null  object\n",
      " 11  Age               250000 non-null  int64 \n",
      " 12  Gender            250000 non-null  object\n",
      " 13  Churn             250000 non-null  object\n",
      "dtypes: int64(5), object(9)\n",
      "memory usage: 26.7+ MB\n"
     ]
    }
   ],
   "source": [
    "df.info()"
   ],
   "metadata": {
    "collapsed": false,
    "ExecuteTime": {
     "end_time": "2023-10-24T06:38:33.148677800Z",
     "start_time": "2023-10-24T06:38:33.068702100Z"
    }
   },
   "id": "930323d9fdbc544"
  },
  {
   "cell_type": "code",
   "execution_count": 109,
   "outputs": [
    {
     "data": {
      "text/plain": "Customer ID          int64\nPurchase Date       object\nDate                object\nTime                object\nProduct Category    object\nProduct Price        int64\nQuantity             int64\nTotal Purchase       int64\nPayment Method      object\nReturns             object\nCustomer Name       object\nAge                  int64\nGender              object\nChurn               object\ndtype: object"
     },
     "execution_count": 109,
     "metadata": {},
     "output_type": "execute_result"
    }
   ],
   "source": [
    "df.dtypes"
   ],
   "metadata": {
    "collapsed": false,
    "ExecuteTime": {
     "end_time": "2023-10-24T06:38:33.149679300Z",
     "start_time": "2023-10-24T06:38:33.096671Z"
    }
   },
   "id": "8377697d2c7a2ac9"
  },
  {
   "cell_type": "code",
   "execution_count": 110,
   "outputs": [
    {
     "data": {
      "text/plain": "Customer ID          49661\nPurchase Date       249728\nDate                  1352\nTime                 81683\nProduct Category         4\nProduct Price          491\nQuantity                 5\nTotal Purchase        1459\nPayment Method           3\nReturns                  3\nCustomer Name        39878\nAge                     53\nGender                   2\nChurn                    2\ndtype: int64"
     },
     "execution_count": 110,
     "metadata": {},
     "output_type": "execute_result"
    }
   ],
   "source": [
    "df.nunique()"
   ],
   "metadata": {
    "collapsed": false,
    "ExecuteTime": {
     "end_time": "2023-10-24T06:38:33.405663600Z",
     "start_time": "2023-10-24T06:38:33.109666200Z"
    }
   },
   "id": "415fe6a4087050c1"
  },
  {
   "cell_type": "code",
   "execution_count": 111,
   "outputs": [
    {
     "data": {
      "text/plain": "         Customer ID  Product Price       Quantity  Total Purchase  \\\ncount  250000.000000  250000.000000  250000.000000   250000.000000   \nmean    25017.632092     254.742724       3.004936      765.954660   \nstd     14412.515718     141.738104       1.414737      593.494204   \nmin         1.000000      10.000000       1.000000       10.000000   \n25%     12590.000000     132.000000       2.000000      288.000000   \n50%     25011.000000     255.000000       3.000000      604.000000   \n75%     37441.250000     377.000000       4.000000     1135.000000   \nmax     50000.000000     500.000000       5.000000     2500.000000   \n\n                 Age  \ncount  250000.000000  \nmean       43.798276  \nstd        15.364915  \nmin        18.000000  \n25%        30.000000  \n50%        44.000000  \n75%        57.000000  \nmax        70.000000  ",
      "text/html": "<div>\n<style scoped>\n    .dataframe tbody tr th:only-of-type {\n        vertical-align: middle;\n    }\n\n    .dataframe tbody tr th {\n        vertical-align: top;\n    }\n\n    .dataframe thead th {\n        text-align: right;\n    }\n</style>\n<table border=\"1\" class=\"dataframe\">\n  <thead>\n    <tr style=\"text-align: right;\">\n      <th></th>\n      <th>Customer ID</th>\n      <th>Product Price</th>\n      <th>Quantity</th>\n      <th>Total Purchase</th>\n      <th>Age</th>\n    </tr>\n  </thead>\n  <tbody>\n    <tr>\n      <th>count</th>\n      <td>250000.000000</td>\n      <td>250000.000000</td>\n      <td>250000.000000</td>\n      <td>250000.000000</td>\n      <td>250000.000000</td>\n    </tr>\n    <tr>\n      <th>mean</th>\n      <td>25017.632092</td>\n      <td>254.742724</td>\n      <td>3.004936</td>\n      <td>765.954660</td>\n      <td>43.798276</td>\n    </tr>\n    <tr>\n      <th>std</th>\n      <td>14412.515718</td>\n      <td>141.738104</td>\n      <td>1.414737</td>\n      <td>593.494204</td>\n      <td>15.364915</td>\n    </tr>\n    <tr>\n      <th>min</th>\n      <td>1.000000</td>\n      <td>10.000000</td>\n      <td>1.000000</td>\n      <td>10.000000</td>\n      <td>18.000000</td>\n    </tr>\n    <tr>\n      <th>25%</th>\n      <td>12590.000000</td>\n      <td>132.000000</td>\n      <td>2.000000</td>\n      <td>288.000000</td>\n      <td>30.000000</td>\n    </tr>\n    <tr>\n      <th>50%</th>\n      <td>25011.000000</td>\n      <td>255.000000</td>\n      <td>3.000000</td>\n      <td>604.000000</td>\n      <td>44.000000</td>\n    </tr>\n    <tr>\n      <th>75%</th>\n      <td>37441.250000</td>\n      <td>377.000000</td>\n      <td>4.000000</td>\n      <td>1135.000000</td>\n      <td>57.000000</td>\n    </tr>\n    <tr>\n      <th>max</th>\n      <td>50000.000000</td>\n      <td>500.000000</td>\n      <td>5.000000</td>\n      <td>2500.000000</td>\n      <td>70.000000</td>\n    </tr>\n  </tbody>\n</table>\n</div>"
     },
     "execution_count": 111,
     "metadata": {},
     "output_type": "execute_result"
    }
   ],
   "source": [
    "df.describe()"
   ],
   "metadata": {
    "collapsed": false,
    "ExecuteTime": {
     "end_time": "2023-10-24T06:38:33.476665Z",
     "start_time": "2023-10-24T06:38:33.395673500Z"
    }
   },
   "id": "5b4a6857a22b7308"
  },
  {
   "cell_type": "code",
   "execution_count": 112,
   "outputs": [],
   "source": [
    "# df_grouped = df.groupby(['Age', 'Gender']).size().unstack()\n",
    "# df_grouped.plot(kind='bar', stacked=True, figsize=(20, 6))\n",
    "# plt.title('Customer Age Distribution')\n",
    "# plt.xlabel('Age')\n",
    "# plt.ylabel('Total') \n",
    "# plt.show()"
   ],
   "metadata": {
    "collapsed": false,
    "ExecuteTime": {
     "end_time": "2023-10-24T06:38:33.486662700Z",
     "start_time": "2023-10-24T06:38:33.474666600Z"
    }
   },
   "id": "d0ff6402bc5e974a"
  },
  {
   "cell_type": "code",
   "execution_count": 113,
   "outputs": [],
   "source": [
    "# gender_distribution = df['Gender'].value_counts()\n",
    "# # gender_distribution\n",
    "# plt.plot(figsize=(6, 6))\n",
    "# plt.pie(gender_distribution, labels=gender_distribution.index, autopct='%1.1f%%', startangle=90)\n",
    "# plt.title('Gender Distribution')\n",
    "# plt.show()"
   ],
   "metadata": {
    "collapsed": false,
    "ExecuteTime": {
     "end_time": "2023-10-24T06:38:33.531661200Z",
     "start_time": "2023-10-24T06:38:33.490671800Z"
    }
   },
   "id": "bb635ea9564bdb4b"
  },
  {
   "cell_type": "code",
   "execution_count": 114,
   "outputs": [],
   "source": [
    "# product_category_grouped = df.groupby(['Product Category', 'Gender']).size().unstack()\n",
    "# product_category_grouped.plot(kind='pie', subplots=True, figsize=(12, 6), autopct='%1.1f%%', startangle=90)\n",
    "# plt.suptitle('Product Distribution')\n",
    "# plt.show()\n",
    "\n",
    "# fig, axes = plt.subplots(2, 2, figsize=(12, 8))\n",
    "# axes = axes.flatten()\n",
    "# \n",
    "# for i, (product, row) in enumerate(product_category_grouped.iterrows()):\n",
    "#     row.plot(kind='pie', ax=axes[i], autopct='%1.1f%%', startangle=140)\n",
    "#     axes[i].set_title(f'Product Category {product}')\n",
    "# \n",
    "# plt.show()"
   ],
   "metadata": {
    "collapsed": false,
    "ExecuteTime": {
     "end_time": "2023-10-24T06:38:33.579663200Z",
     "start_time": "2023-10-24T06:38:33.505668400Z"
    }
   },
   "id": "dfeb4ca98f229aed"
  },
  {
   "cell_type": "code",
   "execution_count": 115,
   "outputs": [
    {
     "name": "stderr",
     "output_type": "stream",
     "text": [
      "C:\\Users\\Vu Tien Phat\\AppData\\Local\\Temp\\ipykernel_9876\\2012835231.py:6: FutureWarning: The default of observed=False is deprecated and will be changed to True in a future version of pandas. Pass observed=False to retain current behavior or observed=True to adopt the future default and silence this warning.\n",
      "  df_grouped = df.groupby(['AgeGroup', 'Gender']).size().unstack()\n"
     ]
    },
    {
     "data": {
      "text/plain": "<Figure size 800x600 with 1 Axes>",
      "image/png": "[encoded data removed]"
     },
     "metadata": {},
     "output_type": "display_data"
    }
   ],
   "source": [
    "# Create age groups\n",
    "bins = [20, 30, 40, 50, 60, 70, 80]\n",
    "labels = ['20-29', '30-39', '40-49', '50-59', '60-69', '70-79']\n",
    "df['AgeGroup'] = pd.cut(df['Age'], bins=bins, labels=labels, right=False)\n",
    "\n",
    "df_grouped = df.groupby(['AgeGroup', 'Gender']).size().unstack()\n",
    "df_grouped.plot(kind='bar', stacked=True, figsize=(8, 6))\n",
    "plt.title('Customer Age Group Distribution')\n",
    "plt.xlabel('Age Group')\n",
    "plt.ylabel('Total')\n",
    "plt.xticks(rotation=0)\n",
    "plt.show()"
   ],
   "metadata": {
    "collapsed": false,
    "ExecuteTime": {
     "end_time": "2023-10-24T06:38:33.909664200Z",
     "start_time": "2023-10-24T06:38:33.521666900Z"
    }
   },
   "id": "199be9e7d29f1ce"
  },
  {
   "cell_type": "code",
   "execution_count": 116,
   "outputs": [
    {
     "data": {
      "text/plain": "    Customer ID        Purchase Date        Date      Time Product Category  \\\n0         44605  2023-05-03 21:30:02  2023-05-03  21:30:02             Home   \n1         44605  2021-05-16 13:57:44  2021-05-16  13:57:44      Electronics   \n2         44605  2020-07-13 06:16:57  2020-07-13  06:16:57            Books   \n3         44605  2023-01-17 13:14:36  2023-01-17  13:14:36      Electronics   \n4         44605  2021-05-01 11:29:27  2021-05-01  11:29:27            Books   \n5         13738  2022-08-25 06:48:33  2022-08-25  06:48:33             Home   \n6         13738  2023-07-25 05:17:24  2023-07-25  05:17:24      Electronics   \n7         13738  2023-02-05 19:31:48  2023-02-05  19:31:48            Books   \n8         13738  2021-12-21 03:29:05  2021-12-21  03:29:05             Home   \n9         13738  2023-02-09 00:53:14  2023-02-09  00:53:14      Electronics   \n10        33969  2023-02-28 19:58:23  2023-02-28  19:58:23         Clothing   \n11        33969  2023-01-05 11:15:27  2023-01-05  11:15:27             Home   \n12        33969  2023-07-18 23:36:50  2023-07-18  23:36:50            Books   \n13        33969  2021-12-20 23:44:57  2021-12-20  23:44:57      Electronics   \n14        33969  2020-03-07 21:31:35  2020-03-07  21:31:35            Books   \n15        33969  2022-07-21 04:25:44  2022-07-21  04:25:44             Home   \n16        33969  2023-07-05 15:01:04  2023-07-05  15:01:04         Clothing   \n17        42650  2020-10-18 23:38:52  2020-10-18  23:38:52            Books   \n18        42650  2020-05-17 17:02:36  2020-05-17  17:02:36             Home   \n19        42650  2022-03-18 13:52:08  2022-03-18  13:52:08      Electronics   \n\n    Product Price  Quantity  Total Purchase Payment Method  Returns  \\\n0             177         1             177         PayPal      yes   \n1             174         3             522         PayPal      yes   \n2             413         1             413    Credit Card      yes   \n3             396         3            1188           Cash       no   \n4             259         4            1036         PayPal      yes   \n5             191         3             573    Credit Card      yes   \n6             205         1             205    Credit Card  unknown   \n7             370         5            1850           Cash      yes   \n8              12         2              24           Cash  unknown   \n9              40         4             160           Cash       no   \n10            410         3            1230    Credit Card  unknown   \n11            304         1             304         PayPal      yes   \n12             54         2             108         PayPal       no   \n13            428         4            1712           Cash       no   \n14            281         1             281           Cash       no   \n15            193         2             386    Credit Card       no   \n16            473         3            1419    Credit Card      yes   \n17            127         5             635           Cash       no   \n18            284         2             568    Credit Card      yes   \n19            256         2             512    Credit Card       no   \n\n     Customer Name  Age  Gender Churn AgeGroup  \n0      John Rivera   31  Female    no    30-39  \n1      John Rivera   31  Female    no    30-39  \n2      John Rivera   31  Female    no    30-39  \n3      John Rivera   31  Female    no    30-39  \n4      John Rivera   31  Female    no    30-39  \n5   Lauren Johnson   27  Female    no    20-29  \n6   Lauren Johnson   27  Female    no    20-29  \n7   Lauren Johnson   27  Female    no    20-29  \n8   Lauren Johnson   27  Female    no    20-29  \n9   Lauren Johnson   27  Female    no    20-29  \n10     Carol Allen   27    Male    no    20-29  \n11     Carol Allen   27    Male    no    20-29  \n12     Carol Allen   27    Male    no    20-29  \n13     Carol Allen   27    Male    no    20-29  \n14     Carol Allen   27    Male    no    20-29  \n15     Carol Allen   27    Male    no    20-29  \n16     Carol Allen   27    Male    no    20-29  \n17    Curtis Smith   20  Female    no    20-29  \n18    Curtis Smith   20  Female    no    20-29  \n19    Curtis Smith   20  Female    no    20-29  ",
      "text/html": "<div>\n<style scoped>\n    .dataframe tbody tr th:only-of-type {\n        vertical-align: middle;\n    }\n\n    .dataframe tbody tr th {\n        vertical-align: top;\n    }\n\n    .dataframe thead th {\n        text-align: right;\n    }\n</style>\n<table border=\"1\" class=\"dataframe\">\n  <thead>\n    <tr style=\"text-align: right;\">\n      <th></th>\n      <th>Customer ID</th>\n      <th>Purchase Date</th>\n      <th>Date</th>\n      <th>Time</th>\n      <th>Product Category</th>\n      <th>Product Price</th>\n      <th>Quantity</th>\n      <th>Total Purchase</th>\n      <th>Payment Method</th>\n      <th>Returns</th>\n      <th>Customer Name</th>\n      <th>Age</th>\n      <th>Gender</th>\n      <th>Churn</th>\n      <th>AgeGroup</th>\n    </tr>\n  </thead>\n  <tbody>\n    <tr>\n      <th>0</th>\n      <td>44605</td>\n      <td>2023-05-03 21:30:02</td>\n      <td>2023-05-03</td>\n      <td>21:30:02</td>\n      <td>Home</td>\n      <td>177</td>\n      <td>1</td>\n      <td>177</td>\n      <td>PayPal</td>\n      <td>yes</td>\n      <td>John Rivera</td>\n      <td>31</td>\n      <td>Female</td>\n      <td>no</td>\n      <td>30-39</td>\n    </tr>\n    <tr>\n      <th>1</th>\n      <td>44605</td>\n      <td>2021-05-16 13:57:44</td>\n      <td>2021-05-16</td>\n      <td>13:57:44</td>\n      <td>Electronics</td>\n      <td>174</td>\n      <td>3</td>\n      <td>522</td>\n      <td>PayPal</td>\n      <td>yes</td>\n      <td>John Rivera</td>\n      <td>31</td>\n      <td>Female</td>\n      <td>no</td>\n      <td>30-39</td>\n    </tr>\n    <tr>\n      <th>2</th>\n      <td>44605</td>\n      <td>2020-07-13 06:16:57</td>\n      <td>2020-07-13</td>\n      <td>06:16:57</td>\n      <td>Books</td>\n      <td>413</td>\n      <td>1</td>\n      <td>413</td>\n      <td>Credit Card</td>\n      <td>yes</td>\n      <td>John Rivera</td>\n      <td>31</td>\n      <td>Female</td>\n      <td>no</td>\n      <td>30-39</td>\n    </tr>\n    <tr>\n      <th>3</th>\n      <td>44605</td>\n      <td>2023-01-17 13:14:36</td>\n      <td>2023-01-17</td>\n      <td>13:14:36</td>\n      <td>Electronics</td>\n      <td>396</td>\n      <td>3</td>\n      <td>1188</td>\n      <td>Cash</td>\n      <td>no</td>\n      <td>John Rivera</td>\n      <td>31</td>\n      <td>Female</td>\n      <td>no</td>\n      <td>30-39</td>\n    </tr>\n    <tr>\n      <th>4</th>\n      <td>44605</td>\n      <td>2021-05-01 11:29:27</td>\n      <td>2021-05-01</td>\n      <td>11:29:27</td>\n      <td>Books</td>\n      <td>259</td>\n      <td>4</td>\n      <td>1036</td>\n      <td>PayPal</td>\n      <td>yes</td>\n      <td>John Rivera</td>\n      <td>31</td>\n      <td>Female</td>\n      <td>no</td>\n      <td>30-39</td>\n    </tr>\n    <tr>\n      <th>5</th>\n      <td>13738</td>\n      <td>2022-08-25 06:48:33</td>\n      <td>2022-08-25</td>\n      <td>06:48:33</td>\n      <td>Home</td>\n      <td>191</td>\n      <td>3</td>\n      <td>573</td>\n      <td>Credit Card</td>\n      <td>yes</td>\n      <td>Lauren Johnson</td>\n      <td>27</td>\n      <td>Female</td>\n      <td>no</td>\n      <td>20-29</td>\n    </tr>\n    <tr>\n      <th>6</th>\n      <td>13738</td>\n      <td>2023-07-25 05:17:24</td>\n      <td>2023-07-25</td>\n      <td>05:17:24</td>\n      <td>Electronics</td>\n      <td>205</td>\n      <td>1</td>\n      <td>205</td>\n      <td>Credit Card</td>\n      <td>unknown</td>\n      <td>Lauren Johnson</td>\n      <td>27</td>\n      <td>Female</td>\n      <td>no</td>\n      <td>20-29</td>\n    </tr>\n    <tr>\n      <th>7</th>\n      <td>13738</td>\n      <td>2023-02-05 19:31:48</td>\n      <td>2023-02-05</td>\n      <td>19:31:48</td>\n      <td>Books</td>\n      <td>370</td>\n      <td>5</td>\n      <td>1850</td>\n      <td>Cash</td>\n      <td>yes</td>\n      <td>Lauren Johnson</td>\n      <td>27</td>\n      <td>Female</td>\n      <td>no</td>\n      <td>20-29</td>\n    </tr>\n    <tr>\n      <th>8</th>\n      <td>13738</td>\n      <td>2021-12-21 03:29:05</td>\n      <td>2021-12-21</td>\n      <td>03:29:05</td>\n      <td>Home</td>\n      <td>12</td>\n      <td>2</td>\n      <td>24</td>\n      <td>Cash</td>\n      <td>unknown</td>\n      <td>Lauren Johnson</td>\n      <td>27</td>\n      <td>Female</td>\n      <td>no</td>\n      <td>20-29</td>\n    </tr>\n    <tr>\n      <th>9</th>\n      <td>13738</td>\n      <td>2023-02-09 00:53:14</td>\n      <td>2023-02-09</td>\n      <td>00:53:14</td>\n      <td>Electronics</td>\n      <td>40</td>\n      <td>4</td>\n      <td>160</td>\n      <td>Cash</td>\n      <td>no</td>\n      <td>Lauren Johnson</td>\n      <td>27</td>\n      <td>Female</td>\n      <td>no</td>\n      <td>20-29</td>\n    </tr>\n    <tr>\n      <th>10</th>\n      <td>33969</td>\n      <td>2023-02-28 19:58:23</td>\n      <td>2023-02-28</td>\n      <td>19:58:23</td>\n      <td>Clothing</td>\n      <td>410</td>\n      <td>3</td>\n      <td>1230</td>\n      <td>Credit Card</td>\n      <td>unknown</td>\n      <td>Carol Allen</td>\n      <td>27</td>\n      <td>Male</td>\n      <td>no</td>\n      <td>20-29</td>\n    </tr>\n    <tr>\n      <th>11</th>\n      <td>33969</td>\n      <td>2023-01-05 11:15:27</td>\n      <td>2023-01-05</td>\n      <td>11:15:27</td>\n      <td>Home</td>\n      <td>304</td>\n      <td>1</td>\n      <td>304</td>\n      <td>PayPal</td>\n      <td>yes</td>\n      <td>Carol Allen</td>\n      <td>27</td>\n      <td>Male</td>\n      <td>no</td>\n      <td>20-29</td>\n    </tr>\n    <tr>\n      <th>12</th>\n      <td>33969</td>\n      <td>2023-07-18 23:36:50</td>\n      <td>2023-07-18</td>\n      <td>23:36:50</td>\n      <td>Books</td>\n      <td>54</td>\n      <td>2</td>\n      <td>108</td>\n      <td>PayPal</td>\n      <td>no</td>\n      <td>Carol Allen</td>\n      <td>27</td>\n      <td>Male</td>\n      <td>no</td>\n      <td>20-29</td>\n    </tr>\n    <tr>\n      <th>13</th>\n      <td>33969</td>\n      <td>2021-12-20 23:44:57</td>\n      <td>2021-12-20</td>\n      <td>23:44:57</td>\n      <td>Electronics</td>\n      <td>428</td>\n      <td>4</td>\n      <td>1712</td>\n      <td>Cash</td>\n      <td>no</td>\n      <td>Carol Allen</td>\n      <td>27</td>\n      <td>Male</td>\n      <td>no</td>\n      <td>20-29</td>\n    </tr>\n    <tr>\n      <th>14</th>\n      <td>33969</td>\n      <td>2020-03-07 21:31:35</td>\n      <td>2020-03-07</td>\n      <td>21:31:35</td>\n      <td>Books</td>\n      <td>281</td>\n      <td>1</td>\n      <td>281</td>\n      <td>Cash</td>\n      <td>no</td>\n      <td>Carol Allen</td>\n      <td>27</td>\n      <td>Male</td>\n      <td>no</td>\n      <td>20-29</td>\n    </tr>\n    <tr>\n      <th>15</th>\n      <td>33969</td>\n      <td>2022-07-21 04:25:44</td>\n      <td>2022-07-21</td>\n      <td>04:25:44</td>\n      <td>Home</td>\n      <td>193</td>\n      <td>2</td>\n      <td>386</td>\n      <td>Credit Card</td>\n      <td>no</td>\n      <td>Carol Allen</td>\n      <td>27</td>\n      <td>Male</td>\n      <td>no</td>\n      <td>20-29</td>\n    </tr>\n    <tr>\n      <th>16</th>\n      <td>33969</td>\n      <td>2023-07-05 15:01:04</td>\n      <td>2023-07-05</td>\n      <td>15:01:04</td>\n      <td>Clothing</td>\n      <td>473</td>\n      <td>3</td>\n      <td>1419</td>\n      <td>Credit Card</td>\n      <td>yes</td>\n      <td>Carol Allen</td>\n      <td>27</td>\n      <td>Male</td>\n      <td>no</td>\n      <td>20-29</td>\n    </tr>\n    <tr>\n      <th>17</th>\n      <td>42650</td>\n      <td>2020-10-18 23:38:52</td>\n      <td>2020-10-18</td>\n      <td>23:38:52</td>\n      <td>Books</td>\n      <td>127</td>\n      <td>5</td>\n      <td>635</td>\n      <td>Cash</td>\n      <td>no</td>\n      <td>Curtis Smith</td>\n      <td>20</td>\n      <td>Female</td>\n      <td>no</td>\n      <td>20-29</td>\n    </tr>\n    <tr>\n      <th>18</th>\n      <td>42650</td>\n      <td>2020-05-17 17:02:36</td>\n      <td>2020-05-17</td>\n      <td>17:02:36</td>\n      <td>Home</td>\n      <td>284</td>\n      <td>2</td>\n      <td>568</td>\n      <td>Credit Card</td>\n      <td>yes</td>\n      <td>Curtis Smith</td>\n      <td>20</td>\n      <td>Female</td>\n      <td>no</td>\n      <td>20-29</td>\n    </tr>\n    <tr>\n      <th>19</th>\n      <td>42650</td>\n      <td>2022-03-18 13:52:08</td>\n      <td>2022-03-18</td>\n      <td>13:52:08</td>\n      <td>Electronics</td>\n      <td>256</td>\n      <td>2</td>\n      <td>512</td>\n      <td>Credit Card</td>\n      <td>no</td>\n      <td>Curtis Smith</td>\n      <td>20</td>\n      <td>Female</td>\n      <td>no</td>\n      <td>20-29</td>\n    </tr>\n  </tbody>\n</table>\n</div>"
     },
     "execution_count": 116,
     "metadata": {},
     "output_type": "execute_result"
    }
   ],
   "source": [
    "df.head(20)"
   ],
   "metadata": {
    "collapsed": false,
    "ExecuteTime": {
     "end_time": "2023-10-24T06:38:33.938675200Z",
     "start_time": "2023-10-24T06:38:33.900802800Z"
    }
   },
   "id": "9a9b2a8596951cb2"
  },
  {
   "cell_type": "code",
   "execution_count": 120,
   "outputs": [
    {
     "data": {
      "text/plain": "<Figure size 1500x600 with 1 Axes>",
      "image/png": "[encoded data removed]"
     },
     "metadata": {},
     "output_type": "display_data"
    }
   ],
   "source": [
    "customer_total_purchase = df.groupby('Customer Name')['Total Purchase'].sum()\n",
    "top_10_customers = customer_total_purchase.nlargest(10)\n",
    "top_10_customers.plot(kind='bar', figsize=(15, 6))\n",
    "plt.title('Top 10 Customers with the Highest Spending')\n",
    "plt.xlabel('Customers')\n",
    "plt.ylabel('Total Spending')\n",
    "plt.xticks(rotation=0)\n",
    "plt.show()"
   ],
   "metadata": {
    "collapsed": false,
    "ExecuteTime": {
     "end_time": "2023-10-24T06:44:51.346245600Z",
     "start_time": "2023-10-24T06:44:50.831248Z"
    }
   },
   "id": "755ea81c603a9591"
  },
  {
   "cell_type": "code",
   "execution_count": null,
   "outputs": [],
   "source": [],
   "metadata": {
    "collapsed": false
   },
   "id": "17f9eecf4a464f0"
  }
 ],
 "metadata": {
  "kernelspec": {
   "display_name": "Python 3",
   "language": "python",
   "name": "python3"
  },
  "language_info": {
   "codemirror_mode": {
    "name": "ipython",
    "version": 2
   },
   "file_extension": ".py",
   "mimetype": "text/x-python",
   "name": "python",
   "nbconvert_exporter": "python",
   "pygments_lexer": "ipython2",
   "version": "2.7.6"
  }
 },
 "nbformat": 4,
 "nbformat_minor": 5
}
